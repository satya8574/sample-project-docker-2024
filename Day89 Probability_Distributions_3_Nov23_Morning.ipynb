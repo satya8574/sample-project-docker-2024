{
  "nbformat": 4,
  "nbformat_minor": 0,
  "metadata": {
    "colab": {
      "provenance": [],
      "include_colab_link": true
    },
    "kernelspec": {
      "name": "python3",
      "display_name": "Python 3"
    },
    "language_info": {
      "name": "python"
    }
  },
  "cells": [
    {
      "cell_type": "markdown",
      "metadata": {
        "id": "view-in-github",
        "colab_type": "text"
      },
      "source": [
        "<a href=\"https://colab.research.google.com/github/satya8574/sample-project-docker-2024/blob/master/Day89%20Probability_Distributions_3_Nov23_Morning.ipynb\" target=\"_parent\"><img src=\"https://colab.research.google.com/assets/colab-badge.svg\" alt=\"Open In Colab\"/></a>"
      ]
    },
    {
      "cell_type": "code",
      "execution_count": null,
      "metadata": {
        "id": "pv3Kf4Mvfou2"
      },
      "outputs": [],
      "source": [
        "from scipy.stats import norm"
      ]
    },
    {
      "cell_type": "code",
      "source": [
        "# Given that the mean of data is 65 and standard deviation is 2.5\n",
        "# Calculate the % of values < 69.1"
      ],
      "metadata": {
        "id": "oVEdfAbeyZoA"
      },
      "execution_count": null,
      "outputs": []
    },
    {
      "cell_type": "code",
      "source": [
        "data_mean = 65\n",
        "data_sd = 2.5\n",
        "x = 69.1"
      ],
      "metadata": {
        "id": "MN8Prfbayj9x"
      },
      "execution_count": null,
      "outputs": []
    },
    {
      "cell_type": "code",
      "source": [
        "z = (x - data_mean) / data_sd"
      ],
      "metadata": {
        "id": "CSt-nHZOypj3"
      },
      "execution_count": null,
      "outputs": []
    },
    {
      "cell_type": "code",
      "source": [
        "z"
      ],
      "metadata": {
        "colab": {
          "base_uri": "https://localhost:8080/"
        },
        "id": "5kckrhm1yuZU",
        "outputId": "1f628410-d81a-480d-9e52-6c611ab74fcf"
      },
      "execution_count": null,
      "outputs": [
        {
          "output_type": "execute_result",
          "data": {
            "text/plain": [
              "1.6399999999999977"
            ]
          },
          "metadata": {},
          "execution_count": 5
        }
      ]
    },
    {
      "cell_type": "code",
      "source": [
        "norm.cdf(z) # Given a z score as argument, returns the % of values < the corresponding value for that z score"
      ],
      "metadata": {
        "colab": {
          "base_uri": "https://localhost:8080/"
        },
        "id": "hcIprh4Jyu6k",
        "outputId": "23fba9f5-2a5a-4ff9-ff09-bcad851eb14b"
      },
      "execution_count": null,
      "outputs": [
        {
          "output_type": "execute_result",
          "data": {
            "text/plain": [
              "0.949497416525896"
            ]
          },
          "metadata": {},
          "execution_count": 6
        }
      ]
    },
    {
      "cell_type": "code",
      "source": [
        "data_mean = 50\n",
        "data_sd = 2\n",
        "x = 53\n",
        "\n",
        "z = (x - data_mean) / data_sd"
      ],
      "metadata": {
        "id": "Hq_q3w6Fy9Vf"
      },
      "execution_count": null,
      "outputs": []
    },
    {
      "cell_type": "code",
      "source": [
        "z"
      ],
      "metadata": {
        "colab": {
          "base_uri": "https://localhost:8080/"
        },
        "id": "NFMEmTnv0mVh",
        "outputId": "b9193a97-b095-4304-9ea4-f83495e01f99"
      },
      "execution_count": null,
      "outputs": [
        {
          "output_type": "execute_result",
          "data": {
            "text/plain": [
              "1.5"
            ]
          },
          "metadata": {},
          "execution_count": 8
        }
      ]
    },
    {
      "cell_type": "code",
      "source": [
        "norm.cdf(z)"
      ],
      "metadata": {
        "colab": {
          "base_uri": "https://localhost:8080/"
        },
        "id": "SvuP6uVN0mmg",
        "outputId": "91ae9698-b178-4ae9-9a6d-f005d23b8c2d"
      },
      "execution_count": null,
      "outputs": [
        {
          "output_type": "execute_result",
          "data": {
            "text/plain": [
              "0.9331927987311419"
            ]
          },
          "metadata": {},
          "execution_count": 9
        }
      ]
    },
    {
      "cell_type": "markdown",
      "source": [
        "The height of people is Gaussian with mean 65 inches and standard deviation 2.5 inches.  \n",
        "\n",
        "One person says:  \n",
        "96% people are shorter than me. What is my height?"
      ],
      "metadata": {
        "id": "x1JMmkw01WS3"
      }
    },
    {
      "cell_type": "code",
      "source": [
        "# x -> z -> % (CDF)\n",
        "# % -> z -> x (PPF)"
      ],
      "metadata": {
        "id": "astq7G010qZx"
      },
      "execution_count": null,
      "outputs": []
    },
    {
      "cell_type": "code",
      "source": [
        "z = norm.ppf(0.96)"
      ],
      "metadata": {
        "id": "ZXRROBBz1vWu"
      },
      "execution_count": null,
      "outputs": []
    },
    {
      "cell_type": "code",
      "source": [
        "z"
      ],
      "metadata": {
        "colab": {
          "base_uri": "https://localhost:8080/"
        },
        "id": "sPWs3T4_1y81",
        "outputId": "b1473df8-d2f7-49a9-93f0-d20c951b93ea"
      },
      "execution_count": null,
      "outputs": [
        {
          "output_type": "execute_result",
          "data": {
            "text/plain": [
              "1.7506860712521692"
            ]
          },
          "metadata": {},
          "execution_count": 12
        }
      ]
    },
    {
      "cell_type": "code",
      "source": [
        "data_mean = 65\n",
        "data_sd = 2.5\n",
        "\n",
        "x = data_mean + (z * data_sd)"
      ],
      "metadata": {
        "id": "yOl7BvD91zcu"
      },
      "execution_count": null,
      "outputs": []
    },
    {
      "cell_type": "code",
      "source": [
        "x"
      ],
      "metadata": {
        "colab": {
          "base_uri": "https://localhost:8080/"
        },
        "id": "C8Q_YtSR2CUx",
        "outputId": "caac3dfe-74f7-4c31-d40d-d98c8b7208ab"
      },
      "execution_count": null,
      "outputs": [
        {
          "output_type": "execute_result",
          "data": {
            "text/plain": [
              "69.37671517813042"
            ]
          },
          "metadata": {},
          "execution_count": 14
        }
      ]
    },
    {
      "cell_type": "markdown",
      "source": [
        "### Quiz 4 ->\n",
        "Skaters take a mean of 7.42 seconds and std dev of 0.34 seconds for 500 meters.\n",
        "What should his speed be such that he is faster than 95% of his competitors?"
      ],
      "metadata": {
        "id": "mYzOxAhd2zBm"
      }
    },
    {
      "cell_type": "code",
      "source": [
        "data_mean = 7.42\n",
        "data_sd = 0.34\n",
        "distance = 500"
      ],
      "metadata": {
        "id": "HCThxyav2C00"
      },
      "execution_count": null,
      "outputs": []
    },
    {
      "cell_type": "code",
      "source": [
        "# Being faster than 95% -> slower than 5% -> 5% of the people should have time < Me!"
      ],
      "metadata": {
        "id": "Z9gr68wp3QqE"
      },
      "execution_count": null,
      "outputs": []
    },
    {
      "cell_type": "code",
      "source": [
        "z = norm.ppf(0.05)"
      ],
      "metadata": {
        "id": "3EcqkTX43lT-"
      },
      "execution_count": null,
      "outputs": []
    },
    {
      "cell_type": "code",
      "source": [
        "z"
      ],
      "metadata": {
        "colab": {
          "base_uri": "https://localhost:8080/"
        },
        "id": "Ohr8jtBA3vxz",
        "outputId": "01861b6a-3363-47c6-f5c4-2b396083e759"
      },
      "execution_count": null,
      "outputs": [
        {
          "output_type": "execute_result",
          "data": {
            "text/plain": [
              "-1.6448536269514729"
            ]
          },
          "metadata": {},
          "execution_count": 22
        }
      ]
    },
    {
      "cell_type": "code",
      "source": [
        "x = data_mean + (z * data_sd)"
      ],
      "metadata": {
        "id": "Sjiq7XOf3wkz"
      },
      "execution_count": null,
      "outputs": []
    },
    {
      "cell_type": "code",
      "source": [
        "x"
      ],
      "metadata": {
        "colab": {
          "base_uri": "https://localhost:8080/"
        },
        "id": "6PXzo66n32TB",
        "outputId": "050b1bc2-e471-4dc4-84cd-a7360d4a09d8"
      },
      "execution_count": null,
      "outputs": [
        {
          "output_type": "execute_result",
          "data": {
            "text/plain": [
              "6.860749766836499"
            ]
          },
          "metadata": {},
          "execution_count": 25
        }
      ]
    },
    {
      "cell_type": "code",
      "source": [
        "speed = distance / x"
      ],
      "metadata": {
        "id": "Ecwh9GVn3230"
      },
      "execution_count": null,
      "outputs": []
    },
    {
      "cell_type": "code",
      "source": [
        "speed"
      ],
      "metadata": {
        "colab": {
          "base_uri": "https://localhost:8080/"
        },
        "id": "_WaVxJqC4DIK",
        "outputId": "30f3d4c7-bbbd-4e0e-b9ab-b76beaa8efc8"
      },
      "execution_count": null,
      "outputs": [
        {
          "output_type": "execute_result",
          "data": {
            "text/plain": [
              "72.87833210546471"
            ]
          },
          "metadata": {},
          "execution_count": 27
        }
      ]
    },
    {
      "cell_type": "markdown",
      "source": [
        "### Quiz 5 ->\n",
        "A retail outlet sells around 1000 toothpastes a week, with std dev = 200. If we have 1300 stock units as our inventory, then what is the probability you'd need to replenish stocks within the week?"
      ],
      "metadata": {
        "id": "zNSnsd7Q4s6f"
      }
    },
    {
      "cell_type": "code",
      "source": [
        "data_mean = 1000\n",
        "data_sd = 200\n",
        "stock = 1300\n",
        "\n",
        "# P(x > stock) -> P(x < stock) using CDF\n",
        "# P(x > stock) -> 1 - P(x < stock)\n",
        "\n",
        "z = (stock - data_mean) / data_sd"
      ],
      "metadata": {
        "id": "U0mBhD454EGZ"
      },
      "execution_count": null,
      "outputs": []
    },
    {
      "cell_type": "code",
      "source": [
        "z"
      ],
      "metadata": {
        "colab": {
          "base_uri": "https://localhost:8080/"
        },
        "id": "LQL_PDRE54qJ",
        "outputId": "d35c1b01-d6ba-496d-c0af-d2032ab739c7"
      },
      "execution_count": null,
      "outputs": [
        {
          "output_type": "execute_result",
          "data": {
            "text/plain": [
              "1.5"
            ]
          },
          "metadata": {},
          "execution_count": 29
        }
      ]
    },
    {
      "cell_type": "code",
      "source": [
        "out_of_stock_prob = 1 - norm.cdf(1.5)"
      ],
      "metadata": {
        "id": "b9d0neeB55Jw"
      },
      "execution_count": null,
      "outputs": []
    },
    {
      "cell_type": "code",
      "source": [
        "out_of_stock_prob"
      ],
      "metadata": {
        "colab": {
          "base_uri": "https://localhost:8080/"
        },
        "id": "uwgC8Ekz5-rh",
        "outputId": "8a1c00da-c951-4b02-97e1-c7802d09cc53"
      },
      "execution_count": null,
      "outputs": [
        {
          "output_type": "execute_result",
          "data": {
            "text/plain": [
              "0.06680720126885809"
            ]
          },
          "metadata": {},
          "execution_count": 31
        }
      ]
    },
    {
      "cell_type": "code",
      "source": [
        "# How much inventory should I have so that there is a only a 3% chance of running out of stock"
      ],
      "metadata": {
        "id": "OD7hItcV6A_B"
      },
      "execution_count": null,
      "outputs": []
    },
    {
      "cell_type": "code",
      "source": [
        "z = norm.ppf(0.97)"
      ],
      "metadata": {
        "id": "IFuIXimB6OWS"
      },
      "execution_count": null,
      "outputs": []
    },
    {
      "cell_type": "code",
      "source": [
        "z"
      ],
      "metadata": {
        "colab": {
          "base_uri": "https://localhost:8080/"
        },
        "id": "4_22LlEN6Rud",
        "outputId": "5bd24d75-7142-4f1e-da9f-13fbd81878ed"
      },
      "execution_count": null,
      "outputs": [
        {
          "output_type": "execute_result",
          "data": {
            "text/plain": [
              "1.8807936081512509"
            ]
          },
          "metadata": {},
          "execution_count": 34
        }
      ]
    },
    {
      "cell_type": "code",
      "source": [
        "x = data_mean + (z * data_sd)"
      ],
      "metadata": {
        "id": "wQfbNbtJ6S7T"
      },
      "execution_count": null,
      "outputs": []
    },
    {
      "cell_type": "code",
      "source": [
        "x"
      ],
      "metadata": {
        "id": "CSbiFskD6ZQC",
        "outputId": "d4145d3f-83aa-4082-82e3-0a37c0386f37",
        "colab": {
          "base_uri": "https://localhost:8080/"
        }
      },
      "execution_count": null,
      "outputs": [
        {
          "output_type": "execute_result",
          "data": {
            "text/plain": [
              "1376.15872163025"
            ]
          },
          "metadata": {},
          "execution_count": 37
        }
      ]
    },
    {
      "cell_type": "code",
      "source": [],
      "metadata": {
        "id": "Ekcn8m7d6boL"
      },
      "execution_count": null,
      "outputs": []
    }
  ]
}